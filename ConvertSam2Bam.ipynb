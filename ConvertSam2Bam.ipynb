{
 "cells": [
  {
   "cell_type": "markdown",
   "metadata": {},
   "source": [
    "### Filtering SAM to BAM unmapped \n",
    "\n",
    "This job to filter SAM files output from Nextgenmap. It runs `samtools` via `pysam` to convert to BAM and store only unmapped content."
   ]
  },
  {
   "cell_type": "code",
   "execution_count": null,
   "metadata": {},
   "outputs": [],
   "source": [
    "import pysam\n",
    "import os\n",
    "from hops import hdfs\n",
    "import utils\n",
    "import sys\n",
    "from pyspark import SparkContext\n",
    "import subprocess\n"
   ]
  },
  {
   "cell_type": "markdown",
   "metadata": {},
   "source": [
    "#### Load arguments"
   ]
  },
  {
   "cell_type": "code",
   "execution_count": null,
   "metadata": {},
   "outputs": [],
   "source": [
    "\n",
    "args=utils.load_arguments(sys.argv)\n",
    "if args is not None:\n",
    "    args=args[utils.KEY_SAM]\n",
    "else :\n",
    "    sys.exit(utils.NO_CONFIG_ERR)\n",
    "    \n",
    "sc = SparkContext.getOrCreate()\n",
    "\n",
    "inputRoot=args['INPUT_ROOT']\n",
    "outputBam=args['OUTPUT_BAM']\n",
    "\n",
    "threads=str(args['THREADS'])"
   ]
  },
  {
   "cell_type": "markdown",
   "metadata": {},
   "source": [
    "\n",
    "##### Map function"
   ]
  },
  {
   "cell_type": "code",
   "execution_count": null,
   "metadata": {},
   "outputs": [],
   "source": [
    "\"\"\"\n",
    "run via pysam equivalent to 'samtools view'\n",
    "Output is copied back to hdfs \n",
    "\"\"\"\n",
    "def convert_sam(file_path):\n",
    "\n",
    "    file=os.path.basename(file_path)\n",
    "    bam_file=file.split('.')[0]+utils.UNMAPPED_BAM\n",
    "    if utils.skip_file(file,bam_file,outputBam):\n",
    "        return [-1]\n",
    "    hdfs.copy_to_local(file_path, overwrite=True)\n",
    "    print(\"INFO: Run unmapped sequences BAM : \", file)    \n",
    "    pysam.view('-o', bam_file, '-b', file,'-f 4','-@',threads, catch_stdout=False)\n",
    "    \n",
    "    if os.path.exists(bam_file):\n",
    "        hdfs.copy_to_hdfs(bam_file,outputBam,overwrite=True)\n",
    "        os.remove(bam_file)\n",
    "        os.remove(file)\n",
    "\n",
    "    return bam_file\n",
    "\n",
    "\n",
    "\n",
    "\n",
    "    \n"
   ]
  },
  {
   "cell_type": "code",
   "execution_count": null,
   "metadata": {},
   "outputs": [],
   "source": []
  },
  {
   "cell_type": "code",
   "execution_count": null,
   "metadata": {},
   "outputs": [],
   "source": [
    "# load input file paths\n",
    "\n",
    "inputFiles=utils.load_file_names(inputRoot)\n",
    "\n",
    "\n",
    "\n"
   ]
  },
  {
   "cell_type": "markdown",
   "metadata": {},
   "source": [
    "#### Run in parallel"
   ]
  },
  {
   "cell_type": "code",
   "execution_count": null,
   "metadata": {},
   "outputs": [],
   "source": [
    "### convert to bam and filter unmapped sequences\n",
    "unMapped=sc.parallelize(inputFiles).map(convert_sam).collect()"
   ]
  }
 ],
 "metadata": {
  "kernelspec": {
   "display_name": "PySpark",
   "language": "python",
   "name": "pysparkkernel"
  },
  "language_info": {
   "codemirror_mode": {
    "name": "python",
    "version": 3
   },
   "mimetype": "text/x-python",
   "name": "pyspark",
   "pygments_lexer": "python3"
  }
 },
 "nbformat": 4,
 "nbformat_minor": 4
}