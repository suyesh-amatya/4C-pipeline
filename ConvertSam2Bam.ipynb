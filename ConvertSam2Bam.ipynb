{
 "cells": [
  {
   "cell_type": "markdown",
   "metadata": {},
   "source": [
    "## Filtering SAM \n",
    "\n",
    "This job to filter SAM files output from Nextgenmap. It runs `samtools` to convert to BAM and store only human unmapped content."
   ]
  },
  {
   "cell_type": "code",
   "execution_count": null,
   "metadata": {},
   "outputs": [],
   "source": [
    "import pysam\n",
    "import os\n",
    "from hops import hdfs\n",
    "import utils\n",
    "import sys\n",
    "from pyspark import SparkContext\n"
   ]
  },
  {
   "cell_type": "code",
   "execution_count": null,
   "metadata": {},
   "outputs": [],
   "source": [
    "args=utils.load_arguments(sys.argv)\n",
    "if args is not None:\n",
    "    args=args['FilterSAM']\n",
    "else :\n",
    "    sys.exit(utils.NO_CONFIG_ERR)\n",
    "    \n",
    "sc = SparkContext.getOrCreate()"
   ]
  },
  {
   "cell_type": "code",
   "execution_count": null,
   "metadata": {},
   "outputs": [],
   "source": [
    "\n",
    "inputRoot=args['INPUT_ROOT']\n",
    "outputBam=args['OUTPUT_BAM']\n",
    "outputMerge=args['OUTPUT_MERGE']\n",
    "outputSort=args['OUTPUT_SORT']\n",
    "outputFastq=args['OUTPUT_FASTQ']\n",
    "threads=str(args['THREADS'])"
   ]
  },
  {
   "cell_type": "code",
   "execution_count": null,
   "metadata": {},
   "outputs": [],
   "source": [
    "\n",
    "def convert_sam(file):\n",
    "    \n",
    "    print(\"INFO: Run unmapped sequences BAM : \", file)    \n",
    "    bam_file=file.split('.')[0]+'.bam'\n",
    "    hdfs.copy_to_local(os.path.join(inputRoot,file), overwrite=True)\n",
    "    pysam.view('-o', bam_file, '-b', file,'-f 4','-@',threads, catch_stdout=False)\n",
    "    if os.path.exists(bam_file):\n",
    "        hdfs.copy_to_hdfs(bam_file,outputBam,overwrite=True)\n",
    "        os.remove(bam_file)\n",
    "        os.remove(file)\n",
    "\n",
    "    return bam_file\n",
    "\n",
    "\n",
    "\n",
    "\n",
    "    \n"
   ]
  },
  {
   "cell_type": "code",
   "execution_count": null,
   "metadata": {},
   "outputs": [],
   "source": [
    "\n",
    "inputFiles=utils.load_file_names(inputRoot)\n",
    "\n",
    "### convert to bam and filter unmapped sequences\n",
    "unMapped=sc.parallelize(inputFiles).map(convert_sam).collect()\n"
   ]
  }
 ],
 "metadata": {
  "kernelspec": {
   "display_name": "PySpark",
   "language": "python",
   "name": "pysparkkernel"
  },
  "language_info": {
   "codemirror_mode": {
    "name": "python",
    "version": 3
   },
   "mimetype": "text/x-python",
   "name": "pyspark",
   "pygments_lexer": "python3"
  }
 },
 "nbformat": 4,
 "nbformat_minor": 4
}