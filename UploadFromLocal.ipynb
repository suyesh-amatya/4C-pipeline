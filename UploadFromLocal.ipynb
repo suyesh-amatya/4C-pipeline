{
 "cells": [
  {
   "cell_type": "markdown",
   "metadata": {},
   "source": [
    "### Upload to HDFS from local disk"
   ]
  },
  {
   "cell_type": "code",
   "execution_count": null,
   "metadata": {},
   "outputs": [],
   "source": [
    "import os\n",
    "import sys\n",
    "\n",
    "from hops import hdfs\n",
    "import time\n",
    "import utils\n",
    "from pyspark import SparkContext"
   ]
  },
  {
   "cell_type": "markdown",
   "metadata": {},
   "source": [
    "#### Load Input and output paths\n"
   ]
  },
  {
   "cell_type": "code",
   "execution_count": null,
   "metadata": {},
   "outputs": [],
   "source": [
    "args=utils.load_arguments(sys.argv)\n",
    "if args is not None:\n",
    "    args=args[utils.KEY_UPLOAD]\n",
    "else :\n",
    "    sys.exit(utils.NO_CONFIG_ERR)\n",
    "\n",
    "INPUT_ROOT=args['INPUT_ROOT']\n",
    "OUTPUT_ROOT=args['OUTPUT_ROOT']\n",
    "log_file='upload_log'+os.path.basename(INPUT_ROOT)+'.txt'\n",
    "LOG_ROOT='Logs/Upload_FASTQ'"
   ]
  },
  {
   "cell_type": "markdown",
   "metadata": {},
   "source": [
    "#### Get local path"
   ]
  },
  {
   "cell_type": "code",
   "execution_count": null,
   "metadata": {},
   "outputs": [],
   "source": [
    "local_path=os.getcwd()\n",
    "local_path"
   ]
  },
  {
   "cell_type": "markdown",
   "metadata": {},
   "source": [
    "#### List of all input file paths and select only FASTQ files"
   ]
  },
  {
   "cell_type": "code",
   "execution_count": null,
   "metadata": {},
   "outputs": [],
   "source": [
    "all_files=os.listdir(INPUT_ROOT)\n",
    "all_files=list(filter(lambda x: '.fastq' in x,all_files ))\n"
   ]
  },
  {
   "cell_type": "markdown",
   "metadata": {},
   "source": [
    "#### Upload function"
   ]
  },
  {
   "cell_type": "code",
   "execution_count": null,
   "metadata": {},
   "outputs": [],
   "source": [
    "\n",
    "# remove any old log file\n",
    "if os.path.exists(log_file):\n",
    "    os.remove(log_file)\n",
    "\n",
    "\n",
    "# write logs header    \n",
    "with open(os.path.join(local_path,log_file),'a') as f: # open log file\n",
    "    f.write('\\n *** Start upload of FASTQ files at source: '+INPUT_ROOT)\n",
    "    f.write('\\n *** Destination at: '+ str(OUTPUT_ROOT))\n",
    "    f.write('\\n *** Total number of input FASTQ files: '+ str(len(all_files)))\n",
    "\n",
    "hdfs.copy_to_hdfs(log_file,LOG_ROOT,overwrite=True)\n",
    "\n",
    "\n",
    "\n",
    "start=time.time()\n",
    "\n",
    "count=0 # upload file counter\n",
    "skipped=0 # skipped counter\n",
    "\n",
    "fd=hdfs.open_file(os.path.join(LOG_ROOT,log_file) ,flags='at')\n",
    "for i in all_files: # upload each file\n",
    "   \n",
    "    fd.write('\\n    - Start file: '+i)\n",
    "\n",
    "    if not hdfs.exists(os.path.join(OUTPUT_ROOT,i)): # upload if not already present\n",
    "        os.chdir(INPUT_ROOT) # change directory to input for hdfs copy.\n",
    "        hdfs.copy_to_hdfs(i,OUTPUT_ROOT,overwrite=False)\n",
    "        count+=1 \n",
    "        \n",
    "        # write in logs\n",
    "        fd.write('\\n    - Finished upload file: '+i)\n",
    "    else :\n",
    "        skipped+=1        \n",
    "        fd.write('\\n    - Skippping file: '+i)\n",
    "\n",
    "# write totals and close logs\n",
    "fd.write('\\n *** Upload Complete. \\n Total number of uploaded FASTQ files: '+str(count) + '\\n Total files skipped: '+str(skipped))\n",
    "fd.close()"
   ]
  },
  {
   "cell_type": "markdown",
   "metadata": {},
   "source": [
    "#### View logs"
   ]
  },
  {
   "cell_type": "code",
   "execution_count": null,
   "metadata": {},
   "outputs": [],
   "source": [
    "# view logs\n",
    "\n",
    "logs = hdfs.load(os.path.join(LOG_ROOT,log_file))\n",
    "print(\"upload logs : {}\".format(logs.decode(\"utf-8\")))\n",
    "\n"
   ]
  }
 ],
 "metadata": {
  "kernelspec": {
   "display_name": "Python",
   "language": "python",
   "name": "python3"
  },
  "language_info": {
   "codemirror_mode": {
    "name": "ipython",
    "version": 3
   },
   "file_extension": ".py",
   "mimetype": "text/x-python",
   "name": "python",
   "nbconvert_exporter": "python",
   "pygments_lexer": "ipython3",
   "version": "3.6.10"
  }
 },
 "nbformat": 4,
 "nbformat_minor": 5
}