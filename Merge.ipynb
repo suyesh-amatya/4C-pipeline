{
 "cells": [
  {
   "cell_type": "markdown",
   "metadata": {},
   "source": [
    "## Merge BAM\n",
    "\n",
    "This job to merge BAM files per sample using samtools. Unique files are found by combining:\n",
    "\n",
    "* Lanes\n",
    "* Paired/Unpaired\n",
    "* All parts incase the input FASTQ was split into smaller parts"
   ]
  },
  {
   "cell_type": "code",
   "execution_count": null,
   "metadata": {},
   "outputs": [],
   "source": [
    "import os\n",
    "import subprocess\n",
    "import sys\n",
    "\n",
    "import pysam\n",
    "from hops import hdfs\n",
    "from pyspark import SparkContext\n",
    "\n",
    "import utils\n",
    "\n"
   ]
  },
  {
   "cell_type": "markdown",
   "metadata": {},
   "source": [
    "#### Load arguments"
   ]
  },
  {
   "cell_type": "code",
   "execution_count": null,
   "metadata": {},
   "outputs": [],
   "source": [
    "args=utils.load_arguments(sys.argv)\n",
    "#args=utils.load_arguments([0,'hdfs:///Projects/4C/Jupyter/settingsDJ.yml'])\n",
    "\n",
    "if args is not None:    \n",
    "    args=args[utils.KEY_MERGE]\n",
    "else :\n",
    "    sys.exit(utils.NO_CONFIG_ERR)\n",
    "    \n",
    "sc = SparkContext.getOrCreate()\n",
    "\n",
    "\n",
    "SPACE=utils.SPACE\n",
    "INPUT_ROOT=args['INPUT_ROOT']\n",
    "OUTPUT_MERGE=args['OUTPUT_MERGE']\n",
    "\n",
    "THREADS=str(args['THREADS'])\n"
   ]
  },
  {
   "cell_type": "markdown",
   "metadata": {},
   "source": [
    "\n",
    "\n",
    "#### Function to map\n"
   ]
  },
  {
   "cell_type": "code",
   "execution_count": null,
   "metadata": {},
   "outputs": [],
   "source": [
    "\n",
    "\"\"\"\n",
    "runs 'samtools merge' as subprocess to merge all files for a given sample name.\n",
    "\"\"\"\n",
    "def merge_files(file):\n",
    "    \n",
    "    print(\"INFO: Run merge files\", file)    \n",
    "    first_name=file\n",
    "    merged_file=first_name+'.bam'\n",
    "    group_files=list(filter(lambda x: file in x ,inputFiles)) # all files for sample name\n",
    "    # copy all files to local\n",
    "    [hdfs.copy_to_local(os.path.join(INPUT_ROOT,x), overwrite=True) for x in group_files]\n",
    "    # get string with all file names\n",
    "    args=' '.join(group_files)\n",
    "    \n",
    "    params={'merge':merged_file, args: '','-@': THREADS}\n",
    "    cmd=utils.build_command(utils.SAMTOOLS,params)\n",
    "   \n",
    "    subprocess.run(cmd.split(), stdout=subprocess.PIPE)\n",
    "    if os.path.exists(merged_file):\n",
    "        hdfs.copy_to_hdfs(merged_file,OUTPUT_MERGE,overwrite=True)\n",
    "        os.remove(merged_file)\n",
    "        for f in group_files:\n",
    "            os.remove(f)\n",
    "\n",
    "    return merged_file\n",
    "  \n",
    "\n",
    "        \n",
    "    \n"
   ]
  },
  {
   "cell_type": "markdown",
   "metadata": {},
   "source": [
    "#### Load input file names"
   ]
  },
  {
   "cell_type": "code",
   "execution_count": null,
   "metadata": {},
   "outputs": [],
   "source": [
    "# load input file hdfs paths\n",
    "inputFiles=utils.load_file_names(INPUT_ROOT)\n",
    "# take only file names\n",
    "inputFiles=[os.path.basename(f) for f in inputFiles]\n",
    "# get unique sample name\n",
    "uniques=utils.find_unique_names(inputFiles)\n"
   ]
  },
  {
   "cell_type": "markdown",
   "metadata": {},
   "source": [
    "#### Run in parallel "
   ]
  },
  {
   "cell_type": "code",
   "execution_count": null,
   "metadata": {},
   "outputs": [],
   "source": [
    "## merge in parallel\n",
    "mergedList=sc.parallelize(uniques).map(merge_files).collect()\n",
    "\n"
   ]
  }
 ],
 "metadata": {
  "kernelspec": {
   "display_name": "PySpark",
   "language": "python",
   "name": "pysparkkernel"
  },
  "language_info": {
   "codemirror_mode": {
    "name": "python",
    "version": 3
   },
   "mimetype": "text/x-python",
   "name": "pyspark",
   "pygments_lexer": "python3"
  }
 },
 "nbformat": 4,
 "nbformat_minor": 4
}