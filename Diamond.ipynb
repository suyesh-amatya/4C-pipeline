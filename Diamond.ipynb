{
 "cells": [
  {
   "cell_type": "markdown",
   "metadata": {},
   "source": [
    "## Run Diamond\n",
    "\n",
    "Runs `diamond` with given reference files and input. "
   ]
  },
  {
   "cell_type": "markdown",
   "metadata": {},
   "source": [
    "#### WIP notes\n",
    "\n"
   ]
  },
  {
   "cell_type": "code",
   "execution_count": null,
   "metadata": {},
   "outputs": [],
   "source": [
    "import os\n",
    "import subprocess\n",
    "import sys\n",
    "\n",
    "from hops import hdfs\n",
    "from pyspark import SparkContext\n",
    "\n",
    "import utils\n",
    "\n"
   ]
  },
  {
   "cell_type": "code",
   "execution_count": null,
   "metadata": {},
   "outputs": [],
   "source": [
    "args=utils.load_arguments(sys.argv)\n",
    "\n",
    "\n",
    "if args is not None:\n",
    "    args=args['Diamond']\n",
    "else :\n",
    "    sys.exit(utils.NO_CONFIG_ERR)\n",
    "    \n",
    "sc = SparkContext.getOrCreate()"
   ]
  },
  {
   "cell_type": "code",
   "execution_count": null,
   "metadata": {
    "tags": [
     "parameters"
    ]
   },
   "outputs": [],
   "source": [
    "\n",
    "INPUT_ROOT=args['INPUT_ROOT']\n",
    "OUTPUT_ROOT=args['OUTPUT_ROOT']\n",
    "REFERENCE_FASTA_PATH = args['REFERENCE_FASTA']\n",
    "DIAMOND_RUN= args['DIAMOND_RUN']\n",
    "TOP = args['TOP']\n",
    "COMPRESS = args['COMPRESS']\n",
    "OUTPUT_FORMAT=args['OUTPUT_FORMAT']\n",
    "OUTPUT_PREFIX=args['OUTPUT_PREFIX']\n",
    "ADVANCE_TUNING = args['ADVANCED_TUNING']\n",
    "LOG_DIR=args['LOGS_ROOT']\n",
    "\n",
    "\n",
    "inputRef= os.path.split(REFERENCE_FASTA_PATH)[1]\n",
    "DIAMOND_PREFIX='./diamond'\n",
    "SPACE=utils.SPACE"
   ]
  },
  {
   "cell_type": "code",
   "execution_count": null,
   "metadata": {},
   "outputs": [],
   "source": [
    "\n",
    "### MAKE DIAMOND DB\n",
    "def make_diamond_db(reference_path):\n",
    "\n",
    "    ref=os.path.split(reference_path)[1]\n",
    "    diamond_DB=os.path.splitext(ref)[0]+'_DB.dmnd'\n",
    "    hdfs.copy_to_local(reference_path)\n",
    "    params={ 'makedb --in': ref, '-d':diamond_DB }\n",
    "    cmd_DB=utils.build_command(DIAMOND_PREFIX, params)\n",
    "\n",
    "    status=subprocess.run(cmd_DB.split(' '),stdout=subprocess.PIPE)\n",
    "\n",
    "    if status.returncode==0:\n",
    "        return diamond_DB\n",
    "\n",
    "    return None\n",
    "\n",
    "\n"
   ]
  },
  {
   "cell_type": "code",
   "execution_count": null,
   "metadata": {},
   "outputs": [],
   "source": [
    "\n",
    "\n",
    "\n",
    "def apply_diamond(file,diamondDB_path):\n",
    "\n",
    "    filename=os.path.splitext(os.path.splitext(file)[0])[0] # split file name without extension    \n",
    "    hdfs.copy_to_local(os.path.join(INPUT_ROOT,file), overwrite=True)\n",
    "    hdfs.copy_to_local(diamondDB_path)\n",
    "    diamond_DB=os.path.split(diamondDB_path)[1]\n",
    "    outfile=OUTPUT_PREFIX+filename     \n",
    "\n",
    "    if ADVANCE_TUNING:\n",
    "        advanced_params = str(COMPRESS)+SPACE+ADVANCE_TUNING\n",
    "    else :\n",
    "        advanced_params = str(COMPRESS)\n",
    "        \n",
    "    parameters = { '-d': diamond_DB, '-q':file, '-o':outfile, '--top': TOP, '--outfmt':OUTPUT_FORMAT, '--compress': advanced_params}\n",
    "    cmd=utils.build_command(DIAMOND_PREFIX+SPACE+DIAMOND_RUN,parameters)\n",
    "    print('INFO: Running diamond with command:', cmd)\n",
    "       \n",
    "    log_file=os.path.splitext(outfile)[0]+'.txt'\n",
    "    with open(log_file, \"w\") as f:\n",
    "        subprocess.run(cmd.split(' '),stdout=f,stderr=f)\n",
    "    \n",
    "    hdfs.copy_to_hdfs(log_file, LOG_DIR, overwrite=True)\n",
    "    \n",
    "    if COMPRESS:\n",
    "        target=outfile+'.gz'\n",
    "    else:\n",
    "        target=outfile \n",
    "    \n",
    "    if os.path.exists(target):\n",
    "        hdfs.copy_to_hdfs(target,OUTPUT_ROOT,overwrite=True)\n",
    "        os.remove(target)\n",
    "        os.remove(file)\n",
    "\n",
    "    parameters.clear() \n",
    "    \n",
    "    return target\n",
    "    "
   ]
  },
  {
   "cell_type": "code",
   "execution_count": null,
   "metadata": {},
   "outputs": [],
   "source": [
    "# make diamond DB\n",
    "diamond_DB=make_diamond_db(REFERENCE_FASTA_PATH)\n",
    "\n",
    "if diamond_DB is not None:\n",
    "    hdfs_path=os.path.split(REFERENCE_FASTA_PATH)[0]\n",
    "    hdfs.copy_to_hdfs(diamond_DB,hdfs_path, overwrite=True)\n",
    "    diamondDB_path=os.path.join(hdfs_path, diamond_DB)\n",
    "\n",
    "    # load input data\n",
    "    inputFiles=utils.load_file_names(INPUT_ROOT)\n",
    "    # run\n",
    "    final=sc.parallelize(inputFiles).map(lambda x: apply_diamond(x,diamondDB_path) ).collect()\n",
    "\n",
    "\n"
   ]
  },
  {
   "cell_type": "code",
   "execution_count": null,
   "metadata": {},
   "outputs": [],
   "source": []
  },
  {
   "cell_type": "code",
   "execution_count": null,
   "metadata": {},
   "outputs": [],
   "source": []
  }
 ],
 "metadata": {
  "celltoolbar": "Tags",
  "kernelspec": {
   "display_name": "PySpark",
   "language": "python",
   "name": "pysparkkernel"
  },
  "language_info": {
   "codemirror_mode": {
    "name": "python",
    "version": 3
   },
   "mimetype": "text/x-python",
   "name": "pyspark",
   "pygments_lexer": "python3"
  }
 },
 "nbformat": 4,
 "nbformat_minor": 4
}