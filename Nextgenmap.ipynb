{
 "cells": [
  {
   "cell_type": "markdown",
   "metadata": {},
   "source": [
    "## Nextgenmap\n",
    "Runs `nextgenmap` in paired data setting. Samples are grouped by R1 and R2 files. \n"
   ]
  },
  {
   "cell_type": "code",
   "execution_count": 1,
   "metadata": {},
   "outputs": [
    {
     "name": "stdout",
     "output_type": "stream",
     "text": [
      "Starting Spark application\n"
     ]
    },
    {
     "data": {
      "text/html": [
       "<table>\n",
       "<tr><th>ID</th><th>YARN Application ID</th><th>Kind</th><th>State</th><th>Spark UI</th><th>Driver log</th></tr><tr><td>319</td><td>application_1613482861329_0025</td><td>pyspark</td><td>idle</td><td><a target=\"_blank\" href=\"http://resourcemanager.service.consul:8088/proxy/application_1613482861329_0025/\">Link</a></td><td><a target=\"_blank\" href=\"http://hadoop2:8042/node/containerlogs/container_e40_1613482861329_0025_01_000001/4C__dhananja\">Link</a></td></tr></table>"
      ],
      "text/plain": [
       "<IPython.core.display.HTML object>"
      ]
     },
     "metadata": {},
     "output_type": "display_data"
    },
    {
     "name": "stdout",
     "output_type": "stream",
     "text": [
      "SparkSession available as 'spark'.\n"
     ]
    }
   ],
   "source": [
    "import logging\n",
    "import os\n",
    "import subprocess\n",
    "import sys\n",
    "\n",
    "from hops import hdfs\n",
    "from pyspark import SparkContext\n",
    "\n",
    "import utils\n"
   ]
  },
  {
   "cell_type": "code",
   "execution_count": 2,
   "metadata": {},
   "outputs": [
    {
     "name": "stdout",
     "output_type": "stream",
     "text": [
      "Started copying hdfs:///Projects/4C/Jupyter/settingsDJ.yml to local disk on path /srv/hops/hopsdata/tmp/nm-local-dir/usercache/PmPpORgvdLjbK5ycqQzUncHEjlUNaHsCD0bOZMp-rKA/appcache/application_1613482861329_0025/container_e40_1613482861329_0025_01_000001/\n",
      "\n",
      "Finished copying"
     ]
    }
   ],
   "source": [
    "args=utils.load_arguments(sys.argv)\n",
    "\n",
    "\n",
    "if args is not None:\n",
    "    args=args['Nextgenmap']\n",
    "else :\n",
    "    sys.exit(utils.NO_CONFIG_ERR)\n",
    "    \n",
    "sc = SparkContext.getOrCreate()"
   ]
  },
  {
   "cell_type": "code",
   "execution_count": 5,
   "metadata": {},
   "outputs": [],
   "source": [
    "VERY_FAST='--very-fast'\n",
    "INPUT_ROOT=args['INPUT_ROOT']\n",
    "OUTPUT_ROOT=args['OUTPUT_ROOT']\n",
    "REFERENCE_PATH=args['REFERENCE_FILE']\n",
    "MIN_I=str(args['MIN-IDENTITY'])\n",
    "MIN_R=str(args['MIN-RESIDUES'])\n",
    "THREADS=args['THREADS']\n",
    "LOG_DIR=args['LOGS_ROOT']\n",
    "is_very_fast=args['VERY_FAST']\n",
    "SPACE=utils.SPACE\n",
    "REFERENCE_FILE=os.path.split(REFERENCE_PATH) [1]"
   ]
  },
  {
   "cell_type": "code",
   "execution_count": null,
   "metadata": {},
   "outputs": [],
   "source": [
    "    \n",
    "\n",
    "pairedList=utils.load_file_names(INPUT_ROOT)\n"
   ]
  },
  {
   "cell_type": "code",
   "execution_count": null,
   "metadata": {},
   "outputs": [],
   "source": [
    "# group r1 and r2\n",
    "pairedList = utils.group_R1R2(pairedList)"
   ]
  },
  {
   "cell_type": "code",
   "execution_count": null,
   "metadata": {},
   "outputs": [],
   "source": [
    "\n",
    "def apply_ngm(x,REFERENCE_PATH): ### paired files\n",
    "    \n",
    "    \n",
    "    filename_forward=x[0] #r1\n",
    "    filename_reverse=x[1] #r2\n",
    "     \n",
    "    hdfs.copy_to_local(REFERENCE_PATH)\n",
    "    hdfs.copy_to_local(os.path.join(INPUT_ROOT,filename_forward), overwrite=True)\n",
    "    hdfs.copy_to_local(os.path.join(INPUT_ROOT,filename_reverse), overwrite=True)\n",
    "             \n",
    "    output_file=filename_forward.split('.')[0].replace('R1_','')+'.sam'\n",
    "    \n",
    "    parameters = { '-i':MIN_I, '-R': MIN_R, '-p': utils.EMPTY, '-r': REFERENCE_FILE, '-1': filename_forward, '-2': filename_reverse,\n",
    "                  '--silent-clip': utils.EMPTY, '-o': output_file, '-t': THREADS, '--no-progress': utils.EMPTY }\n",
    "    \n",
    "    cmd = utils.build_command('ngm',parameters)\n",
    "    \n",
    "    if is_very_fast :\n",
    "        cmd=cmd+SPACE+VERY_FAST\n",
    "    \n",
    "    logging.info('Running nextgenmap with command:', cmd)\n",
    "    log_file=os.path.splitext(output_file) [0]+'.txt'\n",
    "    f=open(log_file, \"w\")\n",
    "    \n",
    "    subprocess.run(cmd.split(' '),stdout=f,stderr=f)\n",
    "    \n",
    "    hdfs.copy_to_hdfs(log_file, LOG_DIR, overwrite=True)\n",
    "    f.close()\n",
    "    status=False\n",
    "    if os.path.exists(output_file):\n",
    "        \n",
    "        hdfs.copy_to_hdfs(output_file, OUTPUT_ROOT, overwrite=True)\n",
    "        status=True\n",
    "        os.remove(filename_forward)\n",
    "        os.remove(filename_reverse)\n",
    "        os.remove(output_file)\n",
    "        os.remove(log_file)\n",
    "        \n",
    "    parameters.clear()\n",
    "\n",
    "    return [status,output_file]\n",
    "            "
   ]
  },
  {
   "cell_type": "code",
   "execution_count": null,
   "metadata": {},
   "outputs": [],
   "source": [
    "dataPairedRdd=sc.parallelize(pairedList)\n"
   ]
  },
  {
   "cell_type": "code",
   "execution_count": null,
   "metadata": {},
   "outputs": [],
   "source": [
    "# run \n",
    "ngmFiles=dataPairedRdd.map(lambda x: apply_ngm(x,REFERENCE_PATH) )"
   ]
  },
  {
   "cell_type": "code",
   "execution_count": null,
   "metadata": {},
   "outputs": [],
   "source": []
  }
 ],
 "metadata": {
  "kernelspec": {
   "display_name": "PySpark",
   "language": "python",
   "name": "pysparkkernel"
  },
  "language_info": {
   "codemirror_mode": {
    "name": "python",
    "version": 3
   },
   "mimetype": "text/x-python",
   "name": "pyspark",
   "pygments_lexer": "python3"
  }
 },
 "nbformat": 4,
 "nbformat_minor": 4
}