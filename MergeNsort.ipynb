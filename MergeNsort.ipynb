{
 "cells": [
  {
   "cell_type": "markdown",
   "metadata": {},
   "source": [
    "## Filtering BAM \n",
    "\n",
    "This job to filter BAM filers. It runs `samtools` to convert with following steps:\n",
    "\n",
    "* Merge lanes per sample\n",
    "* Sort BAM\n",
    "* Convert BAM to FASTQ"
   ]
  },
  {
   "cell_type": "code",
   "execution_count": null,
   "metadata": {},
   "outputs": [],
   "source": [
    "import os\n",
    "import subprocess\n",
    "import sys\n",
    "\n",
    "import pysam\n",
    "from hops import hdfs\n",
    "from pyspark import SparkContext\n",
    "\n",
    "import utils\n",
    "\n"
   ]
  },
  {
   "cell_type": "code",
   "execution_count": null,
   "metadata": {},
   "outputs": [],
   "source": [
    "args=utils.load_arguments(sys.argv)\n",
    "\n",
    "if args is not None:    \n",
    "    args=args['FilterSAM']\n",
    "else :\n",
    "    sys.exit(utils.NO_CONFIG_ERR)\n",
    "    \n",
    "sc = SparkContext.getOrCreate()"
   ]
  },
  {
   "cell_type": "code",
   "execution_count": null,
   "metadata": {},
   "outputs": [],
   "source": [
    "\n",
    "SAMTOOLS='/srv/hops/anaconda/envs/4C/bin/samtools'\n",
    "SPACE=utils.SPACE\n",
    "OUTPUT_BAM=args['OUTPUT_BAM']\n",
    "OUTPUT_MERGE=args['OUTPUT_MERGE']\n",
    "OUTPUT_SORT=args['OUTPUT_SORT']\n",
    "OUTPUT_FASTQ=args['OUTPUT_FASTQ']\n",
    "THREADS=str(args['THREADS'])\n",
    "\n",
    "## input start with BAM unmapped files\n",
    "inputRoot=OUTPUT_BAM"
   ]
  },
  {
   "cell_type": "code",
   "execution_count": null,
   "metadata": {},
   "outputs": [],
   "source": [
    "\n",
    "\n",
    "def merge_files(file):\n",
    "    \n",
    "    print(\"INFO: Run merge files\", file)    \n",
    "    first_name=os.path.splitext(file[0])[0]\n",
    "    merged_file=first_name.split(utils.LANE_SEPAROTOR)[0]+'.bam'\n",
    "    [hdfs.copy_to_local(os.path.join(OUTPUT_BAM,x), overwrite=True) for x in file]\n",
    "    pysam.merge(merged_file,file[0],file[1],file[2],file[3],'--threads',THREADS)\n",
    "    if os.path.exists(merged_file):\n",
    "        hdfs.copy_to_hdfs(merged_file,OUTPUT_MERGE,overwrite=True)\n",
    "        os.remove(merged_file)\n",
    "        for f in file:\n",
    "            os.remove(f)\n",
    "\n",
    "    return merged_file\n",
    "  \n",
    "    \n",
    "def sort(file):    \n",
    "    \n",
    "    sort_file = 'sorted_'+file\n",
    "    pysam.sort('-@',THREADS,'-n',file,'-o',sort_file,catch_stdout=False)\n",
    "    return sort_file\n",
    "    \n",
    "\n",
    "def convert_fastq(file):\n",
    "    \n",
    "    filename=os.path.splitext(file)[0]\n",
    "    \n",
    "    params={'bam2fq':file, '-@': THREADS}\n",
    "    cmd=utils.build_command(SAMTOOLS,params)\n",
    "    out=filename+'.fastq'   \n",
    "    out_comprssd=out+'.gz'\n",
    "    zipp='gzip -1'\n",
    "\n",
    "    p1 = subprocess.Popen(cmd.split(' '), stdout=subprocess.PIPE)\n",
    "    with open(out_comprssd, 'wb') as fout :\n",
    "        subprocess.run(zipp.split(' '), stdin=p1.stdout, stdout=fout)\n",
    "\n",
    "    return out_comprssd\n",
    "\n",
    "\n",
    "def sort_convert(file):\n",
    "    \n",
    "    hdfs.copy_to_local(os.path.join(OUTPUT_MERGE,file), overwrite=True)\n",
    "    print(\"INFO: Run sort \", file)    \n",
    "    sort_file=sort(file)\n",
    "    print(\"INFO: Run convert to fastq \", sort_file)\n",
    "    outfile = convert_fastq(sort_file)\n",
    "    \n",
    "    if os.path.exists(outfile):\n",
    "        hdfs.copy_to_hdfs(outfile,OUTPUT_FASTQ,overwrite=True)\n",
    "        os.remove(outfile)\n",
    "        os.remove(sort_file)\n",
    "        os.remove(file)\n",
    "    \n",
    "        return outfile\n",
    "    else :\n",
    "        return False\n",
    "        \n",
    "    \n"
   ]
  },
  {
   "cell_type": "code",
   "execution_count": null,
   "metadata": {},
   "outputs": [],
   "source": [
    "\n",
    "inputFiles=utils.load_file_names(inputRoot)\n"
   ]
  },
  {
   "cell_type": "code",
   "execution_count": null,
   "metadata": {},
   "outputs": [],
   "source": [
    "### Combining all lanes per sample\n",
    "nbrLanes=utils.find_number_of_lanes(inputFiles)\n",
    "print('INFO: Number of Lanes found: ', nbrLanes)\n",
    "combinedBam = utils.combine_all_lanes(inputFiles,nbrLanes)\n"
   ]
  },
  {
   "cell_type": "code",
   "execution_count": null,
   "metadata": {},
   "outputs": [],
   "source": [
    "## merge \n",
    "mergedList=sc.parallelize(combinedBam).map(merge_files).collect()\n",
    "hdfs.delete(OUTPUT_BAM,recursive=True)\n"
   ]
  },
  {
   "cell_type": "code",
   "execution_count": null,
   "metadata": {},
   "outputs": [],
   "source": [
    "### sort and convert to fastq\n",
    "finalList = sc.parallelize(mergedList).map(sort_convert).collect()\n",
    "hdfs.delete(OUTPUT_MERGE,recursive=True)"
   ]
  }
 ],
 "metadata": {
  "kernelspec": {
   "display_name": "PySpark",
   "language": "python",
   "name": "pysparkkernel"
  },
  "language_info": {
   "codemirror_mode": {
    "name": "python",
    "version": 3
   },
   "mimetype": "text/x-python",
   "name": "pyspark",
   "pygments_lexer": "python3"
  }
 },
 "nbformat": 4,
 "nbformat_minor": 4
}